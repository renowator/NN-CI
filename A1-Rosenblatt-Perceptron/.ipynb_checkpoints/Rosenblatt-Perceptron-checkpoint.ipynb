{
 "cells": [
  {
   "cell_type": "code",
   "execution_count": 1,
   "metadata": {},
   "outputs": [],
   "source": [
    "import numpy as np\n",
    "import matplotlib.pyplot as plt\n",
    "import random"
   ]
  },
  {
   "cell_type": "code",
   "execution_count": 28,
   "metadata": {},
   "outputs": [],
   "source": [
    "def get_normal_distribution(N, mean = 0., variance = 1.):\n",
    "    return np.random.normal(mean, np.sqrt(variance), N)\n",
    "\n",
    "\n",
    "\n",
    "def get_random_label(labels = [-1, 1]):\n",
    "    random_val = random.random()\n",
    "    if len(labels) == 2:\n",
    "        if random_val < 1/len(labels):\n",
    "            return labels[0]\n",
    "        else:\n",
    "            return labels[1]\n",
    "      \n",
    "\n",
    "    \n",
    "def generate_dataset(N, P):\n",
    "    dataset = []\n",
    "    for i in range(P):\n",
    "        ksi_i = get_normal_distribution(N)\n",
    "        S_i = get_random_label()\n",
    "        dataset.append((ksi_i, S_i))\n",
    "    return np.array(dataset)"
   ]
  },
  {
   "cell_type": "code",
   "execution_count": 29,
   "metadata": {},
   "outputs": [
    {
     "data": {
      "image/png": "[encoded data removed]",
      "text/plain": [
       "<Figure size 432x288 with 1 Axes>"
      ]
     },
     "metadata": {},
     "output_type": "display_data"
    }
   ],
   "source": [
    "ksi = get_normal_distribution(1000)\n",
    "\n",
    "plt.plot( ksi,linewidth=2, color='r')\n",
    "plt.show()"
   ]
  },
  {
   "cell_type": "code",
   "execution_count": 30,
   "metadata": {},
   "outputs": [
    {
     "data": {
      "image/png": "[encoded data removed]",
      "text/plain": [
       "<Figure size 432x288 with 1 Axes>"
      ]
     },
     "metadata": {},
     "output_type": "display_data"
    }
   ],
   "source": [
    "plt.hist(ksi, 100)\n",
    "plt.show()"
   ]
  },
  {
   "cell_type": "code",
   "execution_count": 104,
   "metadata": {},
   "outputs": [],
   "source": [
    "D_100_200 = generate_dataset(20, 30)\n"
   ]
  },
  {
   "cell_type": "code",
   "execution_count": 105,
   "metadata": {},
   "outputs": [],
   "source": [
    "class RosenblattPerceptron:\n",
    "    \n",
    "    def __init__(self, D, max_epochs = 100):\n",
    "        self.debug = False\n",
    "        self.N = len(D[0][0])\n",
    "        self.P = len(D[:])\n",
    "        self.D = D\n",
    "        self.W = np.zeros(self.N)\n",
    "        self.E = 0\n",
    "        if self.debug:\n",
    "            print(\"N=\",self.N)\n",
    "            print(\"P=\",self.P)\n",
    "            self.print_internals()\n",
    "        self.max_epochs = max_epochs\n",
    "        self.current_epoch = 0\n",
    "        self.current_data = 0\n",
    "        \n",
    "    def single_perceptron_update(self):\n",
    "        ksi_i = self.D[self.current_data][0]\n",
    "        S_i = self.D[self.current_data][1]\n",
    "        if (self.current_data > 0 or self.current_epoch > 0):\n",
    "            self.E = np.dot(self.W, ksi_i)\n",
    "            self.E = self.E * S_i\n",
    "        update = (ksi_i * S_i)/self.N\n",
    "        if self.E <= 0.:        \n",
    "            self.W += update\n",
    "            self.current_data += 1\n",
    "        else:\n",
    "            self.current_data += 1\n",
    "        if self.debug:\n",
    "            self.print_internals()\n",
    "    \n",
    "    def print_internals(self):\n",
    "        print(\"E=\",self.E)\n",
    "        print(\"W=\",self.W)\n",
    "            \n",
    "            \n",
    "    def print_report(self):\n",
    "        print(\"Training completed at epoch: \", self.current_epoch)\n",
    "        print(\"resulting in weights:\")\n",
    "        print(self.W)\n",
    "            \n",
    "            \n",
    "            \n",
    "    def run_epoch(self):\n",
    "        if self.debug:\n",
    "            print(self.current_epoch)\n",
    "        count = 0\n",
    "        while self.current_data < self.P:\n",
    "            self.single_perceptron_update()\n",
    "            if self.E > 0:\n",
    "                if self.debug:\n",
    "                    print(\"updating count for value\", self.E)\n",
    "                    print(\"New count value\", count+1)\n",
    "                count += 1\n",
    "        if count == self.P: \n",
    "            self.current_data = 0\n",
    "            return True\n",
    "        else:\n",
    "            self.current_data = 0\n",
    "            self.current_epoch += 1\n",
    "            return False\n",
    "        \n",
    "    def run_training(self):\n",
    "        while self.current_epoch < self.max_epochs:\n",
    "             if self.run_epoch():\n",
    "                    break\n",
    "        self.print_report()\n",
    "\n",
    "        "
   ]
  },
  {
   "cell_type": "code",
   "execution_count": 106,
   "metadata": {},
   "outputs": [],
   "source": [
    "perceptron = RosenblattPerceptron(D_100_200)"
   ]
  },
  {
   "cell_type": "code",
   "execution_count": 107,
   "metadata": {},
   "outputs": [
    {
     "name": "stdout",
     "output_type": "stream",
     "text": [
      "Training completed at epoch:  7\n",
      "resulting in weights:\n",
      "[-0.05659128 -0.16088217 -0.15446479 -0.37119788 -0.19784536  0.13688804\n",
      " -0.33650366  0.34127241  0.35316314 -0.01236855 -0.00918464  0.0382458\n",
      "  0.50924449  0.26943577 -0.18830083 -0.30535936 -0.19363812  0.25997175\n",
      "  0.10994065 -0.21664637]\n"
     ]
    }
   ],
   "source": [
    "perceptron.run_training()"
   ]
  },
  {
   "cell_type": "code",
   "execution_count": null,
   "metadata": {},
   "outputs": [],
   "source": []
  },
  {
   "cell_type": "code",
   "execution_count": null,
   "metadata": {},
   "outputs": [],
   "source": []
  }
 ],
 "metadata": {
  "kernelspec": {
   "display_name": "Python 3",
   "language": "python",
   "name": "python3"
  },
  "language_info": {
   "codemirror_mode": {
    "name": "ipython",
    "version": 3
   },
   "file_extension": ".py",
   "mimetype": "text/x-python",
   "name": "python",
   "nbconvert_exporter": "python",
   "pygments_lexer": "ipython3",
   "version": "3.6.5"
  }
 },
 "nbformat": 4,
 "nbformat_minor": 2
}
